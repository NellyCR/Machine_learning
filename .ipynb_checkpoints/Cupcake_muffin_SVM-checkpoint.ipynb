{
 "cells": [
  {
   "cell_type": "code",
   "execution_count": 59,
   "metadata": {},
   "outputs": [],
   "source": [
    "import numpy as np\n",
    "import pandas as pd \n",
    "from sklearn import svm\n",
    "import matplotlib.pyplot as plt\n",
    "import seaborn as sns; sns.set(font_scale= 1.2)\n",
    "%matplotlib inline\n"
   ]
  },
  {
   "cell_type": "code",
   "execution_count": 6,
   "metadata": {
    "scrolled": true
   },
   "outputs": [],
   "source": [
    "recipes = pd.read_csv('muffin_cupcakes.csv')"
   ]
  },
  {
   "cell_type": "code",
   "execution_count": 8,
   "metadata": {},
   "outputs": [
    {
     "data": {
      "text/html": [
       "<div>\n",
       "<style scoped>\n",
       "    .dataframe tbody tr th:only-of-type {\n",
       "        vertical-align: middle;\n",
       "    }\n",
       "\n",
       "    .dataframe tbody tr th {\n",
       "        vertical-align: top;\n",
       "    }\n",
       "\n",
       "    .dataframe thead th {\n",
       "        text-align: right;\n",
       "    }\n",
       "</style>\n",
       "<table border=\"1\" class=\"dataframe\">\n",
       "  <thead>\n",
       "    <tr style=\"text-align: right;\">\n",
       "      <th></th>\n",
       "      <th>Type</th>\n",
       "      <th>Flour</th>\n",
       "      <th>Milk</th>\n",
       "      <th>Sugar</th>\n",
       "      <th>Butter</th>\n",
       "      <th>Egg</th>\n",
       "      <th>Baking Powder</th>\n",
       "      <th>Vanilla</th>\n",
       "      <th>Salt</th>\n",
       "    </tr>\n",
       "  </thead>\n",
       "  <tbody>\n",
       "    <tr>\n",
       "      <th>0</th>\n",
       "      <td>Muffin</td>\n",
       "      <td>55</td>\n",
       "      <td>28</td>\n",
       "      <td>3</td>\n",
       "      <td>7</td>\n",
       "      <td>5</td>\n",
       "      <td>2</td>\n",
       "      <td>0</td>\n",
       "      <td>0</td>\n",
       "    </tr>\n",
       "    <tr>\n",
       "      <th>1</th>\n",
       "      <td>Muffin</td>\n",
       "      <td>47</td>\n",
       "      <td>24</td>\n",
       "      <td>12</td>\n",
       "      <td>6</td>\n",
       "      <td>9</td>\n",
       "      <td>1</td>\n",
       "      <td>0</td>\n",
       "      <td>0</td>\n",
       "    </tr>\n",
       "    <tr>\n",
       "      <th>2</th>\n",
       "      <td>Muffin</td>\n",
       "      <td>47</td>\n",
       "      <td>23</td>\n",
       "      <td>18</td>\n",
       "      <td>6</td>\n",
       "      <td>4</td>\n",
       "      <td>1</td>\n",
       "      <td>0</td>\n",
       "      <td>0</td>\n",
       "    </tr>\n",
       "    <tr>\n",
       "      <th>3</th>\n",
       "      <td>Muffin</td>\n",
       "      <td>45</td>\n",
       "      <td>11</td>\n",
       "      <td>17</td>\n",
       "      <td>17</td>\n",
       "      <td>8</td>\n",
       "      <td>1</td>\n",
       "      <td>0</td>\n",
       "      <td>0</td>\n",
       "    </tr>\n",
       "    <tr>\n",
       "      <th>4</th>\n",
       "      <td>Muffin</td>\n",
       "      <td>50</td>\n",
       "      <td>25</td>\n",
       "      <td>12</td>\n",
       "      <td>6</td>\n",
       "      <td>5</td>\n",
       "      <td>2</td>\n",
       "      <td>1</td>\n",
       "      <td>0</td>\n",
       "    </tr>\n",
       "  </tbody>\n",
       "</table>\n",
       "</div>"
      ],
      "text/plain": [
       "     Type  Flour  Milk  Sugar  Butter  Egg  Baking Powder  Vanilla  Salt\n",
       "0  Muffin     55    28      3       7    5              2        0     0\n",
       "1  Muffin     47    24     12       6    9              1        0     0\n",
       "2  Muffin     47    23     18       6    4              1        0     0\n",
       "3  Muffin     45    11     17      17    8              1        0     0\n",
       "4  Muffin     50    25     12       6    5              2        1     0"
      ]
     },
     "execution_count": 8,
     "metadata": {},
     "output_type": "execute_result"
    }
   ],
   "source": [
    "recipes.head()"
   ]
  },
  {
   "cell_type": "code",
   "execution_count": 39,
   "metadata": {
    "scrolled": false
   },
   "outputs": [
    {
     "data": {
      "text/plain": [
       "<seaborn.axisgrid.FacetGrid at 0x105c12d60>"
      ]
     },
     "execution_count": 39,
     "metadata": {},
     "output_type": "execute_result"
    },
    {
     "data": {
      "image/png": "[encoded data removed]",
      "text/plain": [
       "<Figure size 459.77x360 with 1 Axes>"
      ]
     },
     "metadata": {
      "needs_background": "light"
     },
     "output_type": "display_data"
    }
   ],
   "source": [
    "sns.lmplot(\"Flour\",\"Sugar\",data=recipes, hue=\"Type\", palette=\"Set2\",\n",
    "          fit_reg=False, scatter_kws={'s':100})\n",
    "\n",
    "# This lets us see how cupcakes use way more sugar and less flour than muffins"
   ]
  },
  {
   "cell_type": "code",
   "execution_count": 22,
   "metadata": {},
   "outputs": [],
   "source": [
    "# Change categorical values to numerical\n",
    "\n",
    "# This will helps us know if it's a muffin or not\n",
    "types = np.where(recipes[\"Type\"]==\"Muffin\",0,1)\n",
    "\n",
    "# Take all the columns except from the first one and convert them to a list\n",
    "recipe_features = recipes.columns.values[1:].tolist()\n"
   ]
  },
  {
   "cell_type": "code",
   "execution_count": 23,
   "metadata": {},
   "outputs": [
    {
     "data": {
      "text/plain": [
       "['Flour', 'Milk', 'Sugar', 'Butter', 'Egg', 'Baking Powder', 'Vanilla', 'Salt']"
      ]
     },
     "execution_count": 23,
     "metadata": {},
     "output_type": "execute_result"
    }
   ],
   "source": [
    "# check if we got everything but the type column\n",
    "\n",
    "recipe_features"
   ]
  },
  {
   "cell_type": "code",
   "execution_count": 25,
   "metadata": {},
   "outputs": [
    {
     "data": {
      "text/plain": [
       "array([[55,  3],\n",
       "       [47, 12],\n",
       "       [47, 18],\n",
       "       [45, 17],\n",
       "       [50, 12],\n",
       "       [55,  3],\n",
       "       [54,  7],\n",
       "       [47, 10],\n",
       "       [50, 17],\n",
       "       [50, 17],\n",
       "       [39, 26],\n",
       "       [42, 16],\n",
       "       [34, 20],\n",
       "       [39, 17],\n",
       "       [38, 23],\n",
       "       [42, 25],\n",
       "       [36, 21],\n",
       "       [38, 31],\n",
       "       [36, 24],\n",
       "       [34, 23]])"
      ]
     },
     "execution_count": 25,
     "metadata": {},
     "output_type": "execute_result"
    }
   ],
   "source": [
    "# Get an array of the two columns we'll use\n",
    "\n",
    "ingredients = recipes[[\"Flour\",\"Sugar\"]].values\n",
    "\n",
    "ingredients"
   ]
  },
  {
   "cell_type": "code",
   "execution_count": 26,
   "metadata": {},
   "outputs": [
    {
     "data": {
      "text/plain": [
       "SVC(kernel='linear')"
      ]
     },
     "execution_count": 26,
     "metadata": {},
     "output_type": "execute_result"
    }
   ],
   "source": [
    "# Fit model: SVC C-support Vector Classification and SVM Suport Vector Machine\n",
    "# Linear Kernel is used when the data is Linearly separable (can be separated using a single Line).\n",
    "\n",
    "cm_model = svm.SVC(kernel='linear')\n",
    "\n",
    "# very simple example of split test & train data\n",
    "\n",
    "cm_model.fit(ingredients,types)"
   ]
  },
  {
   "cell_type": "markdown",
   "metadata": {},
   "source": [
    "## Visualizing the the hyperplane \n",
    "Is like a line between the support vectors (closest neighbours from each class: muffin and cupcake)"
   ]
  },
  {
   "cell_type": "code",
   "execution_count": 35,
   "metadata": {},
   "outputs": [
    {
     "name": "stdout",
     "output_type": "stream",
     "text": [
      "[30.         30.6122449  31.2244898  31.83673469 32.44897959 33.06122449\n",
      " 33.67346939 34.28571429 34.89795918 35.51020408 36.12244898 36.73469388\n",
      " 37.34693878 37.95918367 38.57142857 39.18367347 39.79591837 40.40816327\n",
      " 41.02040816 41.63265306 42.24489796 42.85714286 43.46938776 44.08163265\n",
      " 44.69387755 45.30612245 45.91836735 46.53061224 47.14285714 47.75510204\n",
      " 48.36734694 48.97959184 49.59183673 50.20408163 50.81632653 51.42857143\n",
      " 52.04081633 52.65306122 53.26530612 53.87755102 54.48979592 55.10204082\n",
      " 55.71428571 56.32653061 56.93877551 57.55102041 58.16326531 58.7755102\n",
      " 59.3877551  60.        ] \n",
      "\n",
      "[ 1.15779472e+16  1.10528750e+16  1.05278028e+16  1.00027306e+16\n",
      "  9.47765844e+15  8.95258624e+15  8.42751405e+15  7.90244185e+15\n",
      "  7.37736965e+15  6.85229746e+15  6.32722526e+15  5.80215306e+15\n",
      "  5.27708087e+15  4.75200867e+15  4.22693647e+15  3.70186428e+15\n",
      "  3.17679208e+15  2.65171988e+15  2.12664769e+15  1.60157549e+15\n",
      "  1.07650329e+15  5.51431096e+14  2.63588995e+13 -4.98713297e+14\n",
      " -1.02378549e+15 -1.54885769e+15 -2.07392989e+15 -2.59900208e+15\n",
      " -3.12407428e+15 -3.64914648e+15 -4.17421867e+15 -4.69929087e+15\n",
      " -5.22436307e+15 -5.74943526e+15 -6.27450746e+15 -6.79957966e+15\n",
      " -7.32465185e+15 -7.84972405e+15 -8.37479625e+15 -8.89986844e+15\n",
      " -9.42494064e+15 -9.95001284e+15 -1.04750850e+16 -1.10001572e+16\n",
      " -1.15252294e+16 -1.20503016e+16 -1.25753738e+16 -1.31004460e+16\n",
      " -1.36255182e+16 -1.41505904e+16]\n"
     ]
    }
   ],
   "source": [
    "# coef_ is the coefficients for the prediction of each of the targets. It is also the same as if you trained a model to predict each of the targets separately.\n",
    "w = cm_model.coef_[0]\n",
    "\n",
    "# the slope that we are generating\n",
    "slope = -w[0] / w[1]\n",
    "\n",
    "# Create a numpy array which is just a line of values between 30 and 60 \n",
    "xx = np.linspace(30,60)\n",
    "\n",
    "# Based on the formula y = mx + i ( the \"slope\" times \"x\" + the \"intercept\" )\n",
    "yy = slope * xx - (cm_model.intercept_[0] / w[1])\n",
    "\n",
    "print(xx, '\\n')\n",
    "\n",
    "print(yy)\n"
   ]
  },
  {
   "cell_type": "markdown",
   "metadata": {},
   "source": [
    "## Create the two lines that passes through the support vectors \n",
    "One line for each class: muffin and cupcake"
   ]
  },
  {
   "cell_type": "code",
   "execution_count": 38,
   "metadata": {
    "scrolled": true
   },
   "outputs": [
    {
     "name": "stdout",
     "output_type": "stream",
     "text": [
      "[ 1.28642688e+16  1.23391966e+16  1.18141244e+16  1.12890522e+16\n",
      "  1.07639800e+16  1.02389078e+16  9.71383564e+15  9.18876344e+15\n",
      "  8.66369124e+15  8.13861905e+15  7.61354685e+15  7.08847465e+15\n",
      "  6.56340246e+15  6.03833026e+15  5.51325806e+15  4.98818587e+15\n",
      "  4.46311367e+15  3.93804147e+15  3.41296928e+15  2.88789708e+15\n",
      "  2.36282488e+15  1.83775269e+15  1.31268049e+15  7.87608295e+14\n",
      "  2.62536098e+14 -2.62536098e+14 -7.87608295e+14 -1.31268049e+15\n",
      " -1.83775269e+15 -2.36282488e+15 -2.88789708e+15 -3.41296928e+15\n",
      " -3.93804147e+15 -4.46311367e+15 -4.98818587e+15 -5.51325806e+15\n",
      " -6.03833026e+15 -6.56340246e+15 -7.08847465e+15 -7.61354685e+15\n",
      " -8.13861905e+15 -8.66369124e+15 -9.18876344e+15 -9.71383564e+15\n",
      " -1.02389078e+16 -1.07639800e+16 -1.12890522e+16 -1.18141244e+16\n",
      " -1.23391966e+16 -1.28642688e+16] \n",
      "\n",
      "[ 1.02914151e+16  9.76634286e+15  9.24127066e+15  8.71619846e+15\n",
      "  8.19112627e+15  7.66605407e+15  7.14098187e+15  6.61590968e+15\n",
      "  6.09083748e+15  5.56576528e+15  5.04069309e+15  4.51562089e+15\n",
      "  3.99054869e+15  3.46547650e+15  2.94040430e+15  2.41533210e+15\n",
      "  1.89025991e+15  1.36518771e+15  8.40115515e+14  3.15043318e+14\n",
      " -2.10028879e+14 -7.35101075e+14 -1.26017327e+15 -1.78524547e+15\n",
      " -2.31031767e+15 -2.83538986e+15 -3.36046206e+15 -3.88553426e+15\n",
      " -4.41060645e+15 -4.93567865e+15 -5.46075085e+15 -5.98582304e+15\n",
      " -6.51089524e+15 -7.03596743e+15 -7.56103963e+15 -8.08611183e+15\n",
      " -8.61118402e+15 -9.13625622e+15 -9.66132842e+15 -1.01864006e+16\n",
      " -1.07114728e+16 -1.12365450e+16 -1.17616172e+16 -1.22866894e+16\n",
      " -1.28117616e+16 -1.33368338e+16 -1.38619060e+16 -1.43869782e+16\n",
      " -1.49120504e+16 -1.54371226e+16]\n"
     ]
    }
   ],
   "source": [
    "b = cm_model.support_vectors_[0]\n",
    "\n",
    "yy_down = slope * xx + (b[1] - slope * b[0])\n",
    "\n",
    "b = cm_model.support_vectors_[-1]\n",
    "\n",
    "xx_up = slope * xx + (b[1] - slope * b[0])\n",
    "\n",
    "\n",
    "print(yy_down, '\\n')\n",
    "print(xx_up)"
   ]
  },
  {
   "cell_type": "markdown",
   "metadata": {},
   "source": [
    "## Plot the hyperplane and the parallels ( lines for the nearest support vectors)"
   ]
  },
  {
   "cell_type": "code",
   "execution_count": 44,
   "metadata": {
    "scrolled": true
   },
   "outputs": [
    {
     "data": {
      "text/plain": [
       "<seaborn.axisgrid.FacetGrid at 0x1234981c0>"
      ]
     },
     "execution_count": 44,
     "metadata": {},
     "output_type": "execute_result"
    },
    {
     "data": {
      "image/png": "[encoded data removed]",
      "text/plain": [
       "<Figure size 459.77x360 with 1 Axes>"
      ]
     },
     "metadata": {
      "needs_background": "light"
     },
     "output_type": "display_data"
    }
   ],
   "source": [
    "# This is the first plot we did earlier to see all the data points \n",
    "\n",
    "sns.lmplot ('Flour','Sugar', data=recipes, hue='Type', palette='Set2',\n",
    "            fit_reg=False, scatter_kws={'s':100}) \n",
    "\n"
   ]
  },
  {
   "cell_type": "code",
   "execution_count": 45,
   "metadata": {},
   "outputs": [
    {
     "data": {
      "text/plain": [
       "[<matplotlib.lines.Line2D at 0x123310be0>]"
      ]
     },
     "execution_count": 45,
     "metadata": {},
     "output_type": "execute_result"
    },
    {
     "data": {
      "image/png": "[encoded data removed]",
      "text/plain": [
       "<Figure size 432x288 with 1 Axes>"
      ]
     },
     "metadata": {
      "needs_background": "light"
     },
     "output_type": "display_data"
    }
   ],
   "source": [
    "# Plot the line that separates the two classes\n",
    "\n",
    "plt.plot(xx,yy, linewidth=2, color=\"blue\")\n"
   ]
  },
  {
   "cell_type": "code",
   "execution_count": 46,
   "metadata": {},
   "outputs": [
    {
     "data": {
      "text/plain": [
       "[<matplotlib.lines.Line2D at 0x1233a2f10>]"
      ]
     },
     "execution_count": 46,
     "metadata": {},
     "output_type": "execute_result"
    },
    {
     "data": {
      "image/png": "[encoded data removed]",
      "text/plain": [
       "<Figure size 432x288 with 1 Axes>"
      ]
     },
     "metadata": {
      "needs_background": "light"
     },
     "output_type": "display_data"
    }
   ],
   "source": [
    "# Plot the upper line that passes throw the nearest support vector\n",
    "\n",
    "plt.plot(xx,yy_down, 'k--') # k-- is to have a dot line"
   ]
  },
  {
   "cell_type": "code",
   "execution_count": 47,
   "metadata": {},
   "outputs": [
    {
     "data": {
      "text/plain": [
       "[<matplotlib.lines.Line2D at 0x12346b520>]"
      ]
     },
     "execution_count": 47,
     "metadata": {},
     "output_type": "execute_result"
    },
    {
     "data": {
      "image/png": "[encoded data removed]",
      "text/plain": [
       "<Figure size 432x288 with 1 Axes>"
      ]
     },
     "metadata": {
      "needs_background": "light"
     },
     "output_type": "display_data"
    }
   ],
   "source": [
    "# Plot the bottom line that passes throw the nearest support vectors\n",
    "\n",
    "plt.plot(xx,yy_up, 'k--') "
   ]
  },
  {
   "cell_type": "markdown",
   "metadata": {},
   "source": [
    "# Final result"
   ]
  },
  {
   "cell_type": "code",
   "execution_count": 49,
   "metadata": {
    "scrolled": true
   },
   "outputs": [
    {
     "data": {
      "text/plain": [
       "[<matplotlib.lines.Line2D at 0x12370c6d0>]"
      ]
     },
     "execution_count": 49,
     "metadata": {},
     "output_type": "execute_result"
    },
    {
     "data": {
      "image/png": "[encoded data removed]",
      "text/plain": [
       "<Figure size 459.77x360 with 1 Axes>"
      ]
     },
     "metadata": {
      "needs_background": "light"
     },
     "output_type": "display_data"
    }
   ],
   "source": [
    "sns.lmplot ('Flour','Sugar', data=recipes, hue='Type', palette='Set2',\n",
    "            fit_reg=False, scatter_kws={'s':100}) \n",
    "plt.plot(xx,yy, linewidth=2, color=\"gray\")\n",
    "plt.plot(xx,yy_down, 'k--')\n",
    "plt.plot(xx,yy_up, 'k--') "
   ]
  },
  {
   "cell_type": "markdown",
   "metadata": {},
   "source": [
    "# Create a function to predict if it's a cupkace or muffin based on flour and sugar compostion."
   ]
  },
  {
   "cell_type": "code",
   "execution_count": 50,
   "metadata": {},
   "outputs": [],
   "source": [
    "def muf_or_cup(flour,sugar):\n",
    "    if( cm_model.predict([[flour,sugar]])) ==0: # earlier we said that 0 = muffin\n",
    "        print('It is a muffin muffin 🍞')\n",
    "    else:\n",
    "        print('It is a cupcake 🧁')"
   ]
  },
  {
   "cell_type": "code",
   "execution_count": 56,
   "metadata": {
    "scrolled": true
   },
   "outputs": [
    {
     "name": "stdout",
     "output_type": "stream",
     "text": [
      "It is a cupcake 🧁\n"
     ]
    }
   ],
   "source": [
    "muf_or_cup(20,40)"
   ]
  },
  {
   "cell_type": "markdown",
   "metadata": {},
   "source": [
    "# In case we want to see this prediction on the plane"
   ]
  },
  {
   "cell_type": "code",
   "execution_count": 58,
   "metadata": {
    "scrolled": true
   },
   "outputs": [
    {
     "data": {
      "text/plain": [
       "[<matplotlib.lines.Line2D at 0x123968e80>]"
      ]
     },
     "execution_count": 58,
     "metadata": {},
     "output_type": "execute_result"
    },
    {
     "data": {
      "image/png": "[encoded data removed]",
      "text/plain": [
       "<Figure size 459.77x360 with 1 Axes>"
      ]
     },
     "metadata": {
      "needs_background": "light"
     },
     "output_type": "display_data"
    }
   ],
   "source": [
    "sns.lmplot ('Flour','Sugar', data=recipes, hue='Type', palette='Set2',\n",
    "            fit_reg=False, scatter_kws={'s':100}) # all the data points\n",
    "plt.plot(xx,yy, linewidth=2, color=\"gray\") # the line that divides the two classes\n",
    "plt.plot(20,40,\"yo\", markersize='15') # our prediction data point in yellow"
   ]
  },
  {
   "cell_type": "code",
   "execution_count": null,
   "metadata": {},
   "outputs": [],
   "source": [
    "# reference : Siplilearn https://www.youtube.com/watch?v=DWsJc1xnOZo"
   ]
  }
 ],
 "metadata": {
  "kernelspec": {
   "display_name": "Python 3",
   "language": "python",
   "name": "python3"
  },
  "language_info": {
   "codemirror_mode": {
    "name": "ipython",
    "version": 3
   },
   "file_extension": ".py",
   "mimetype": "text/x-python",
   "name": "python",
   "nbconvert_exporter": "python",
   "pygments_lexer": "ipython3",
   "version": "3.8.3"
  }
 },
 "nbformat": 4,
 "nbformat_minor": 4
}
